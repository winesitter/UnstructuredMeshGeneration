{
 "cells": [
  {
   "cell_type": "code",
   "execution_count": 68,
   "metadata": {},
   "outputs": [
    {
     "name": "stdout",
     "output_type": "stream",
     "text": [
      "{4: [(4, 1), (5, 4), (4, 0), (9, 4), (8, 4)], 1: [(4, 1), (1, 5), (0, 1), (1, 2)], 5: [(1, 5), (5, 4), (2, 5), (6, 5), (5, 9), (10, 5)], 0: [(0, 1), (4, 0)], 3: [(3, 7), (2, 3)], 7: [(3, 7), (7, 2), (7, 6), (7, 10), (7, 11)], 2: [(7, 2), (2, 3), (6, 2), (1, 2), (2, 5)], 6: [(7, 6), (6, 2), (6, 5), (6, 10)], 9: [(9, 4), (5, 9), (9, 8), (9, 13), (10, 9), (9, 14)], 8: [(9, 8), (8, 4), (12, 8), (8, 13)], 12: [(12, 8), (13, 12)], 13: [(8, 13), (13, 12), (9, 13), (14, 13)], 10: [(6, 10), (10, 5), (10, 9), (7, 10), (11, 10), (14, 10)], 11: [(7, 11), (11, 10), (14, 11), (11, 15)], 14: [(14, 11), (15, 14), (14, 10), (14, 13), (9, 14)], 15: [(11, 15), (15, 14)]}\n"
     ]
    },
    {
     "data": {
      "image/png": "[encoded data removed]",
      "text/plain": [
       "<Figure size 432x432 with 1 Axes>"
      ]
     },
     "metadata": {},
     "output_type": "display_data"
    }
   ],
   "source": [
    "%matplotlib inline\n",
    "\n",
    "from matplotlib import pyplot as plt\n",
    "from matplotlib.tri import Triangulation\n",
    "from matplotlib.patches import Polygon\n",
    "from matplotlib.collections import PatchCollection\n",
    "import numpy as np\n",
    "\n",
    "\n",
    "\n",
    "def get_triangle_edge_neighbors(T):\n",
    "    '''\n",
    "    Function to determine the neighbouring elements of an edge in a triangular mesh\n",
    "    \n",
    "    Input:\n",
    "        T: 3 x N dimensional list with triangle node indices for mesh with N \n",
    "           triangles\n",
    "    Output:\n",
    "        edges: dictionary - keys are two node indices, that define a triangles edge\n",
    "               every key has a list of two values, which are the adjacent triangles \n",
    "               to the edge. If the last value is -1, the edge is located at the boundary\n",
    "               \n",
    "    '''\n",
    "    edges = {}\n",
    "    # Loop over all triangles\n",
    "    for iTri, tri in enumerate(T):\n",
    "        # Loop over all current edges\n",
    "        for iE in range(3):\n",
    "            edge = (tri[iE], tri[(iE+1)%3])\n",
    "            \n",
    "            # Check if edge is already in dictionary\n",
    "            if (edge in edges) or (edge[::-1] in edges):\n",
    "                try:\n",
    "                    edges[edge][1] = iTri\n",
    "                except:\n",
    "                    edges[edge[::-1]][1] = iTri\n",
    "            else:\n",
    "                edges.update({edge:[iTri, -1]})\n",
    "    return edges\n",
    "            \n",
    "    \n",
    "def get_triangle_node_neighbors(T):\n",
    "    '''\n",
    "    Function to determine the triangles, that are adjacent to a node in the triangular mesh.\n",
    "    \n",
    "    Input:\n",
    "        T: 3 x N dimensional list with triangle node indices for mesh with N \n",
    "           triangles\n",
    "    Output:\n",
    "        nodes: dictionary - keys are the mesh nodes - their values are the indices of their\n",
    "               adjacent triangular elements\n",
    "\n",
    "    '''\n",
    "    nodes = {}\n",
    "    # Loop over all triangles\n",
    "    for iTri, tri in enumerate(T):\n",
    "        # Loop over all triangle nodes\n",
    "        for n in tri:\n",
    "            if n in nodes:\n",
    "                nodes[n].append(iTri)\n",
    "            else:\n",
    "                nodes.update({n: [iTri]})\n",
    "    return nodes\n",
    "            \n",
    "            \n",
    "def get_node_edge_neighbors(E):\n",
    "    '''\n",
    "    Function determines which edges are adjacent to the mesh nodes\n",
    "    \n",
    "    Input: edge-dictionary from \"get_triangle_edge_neighbors\"-function\n",
    "    \n",
    "    Output:\n",
    "        nodes: dictionary - keys are the mesh nodes - their values are the indices of their\n",
    "               adjacent mesh-edges\n",
    "    \n",
    "    '''\n",
    "    nodes = {}\n",
    "    # Loop over all edges\n",
    "    for edg in E:\n",
    "        # Loop over all nodes of the respective edge\n",
    "        for n in edg:\n",
    "            if n in nodes:\n",
    "                nodes[n].append(edg)\n",
    "            else:\n",
    "                nodes.update({n: [edg]})\n",
    "    return nodes\n",
    "        \n",
    "\n",
    "\n",
    "\n",
    "\n",
    "x0 = (0, 1)\n",
    "y0 = (0, 1)\n",
    "h = 0.25\n",
    "Nx = int((x0[1]-x0[0])/h)\n",
    "Ny = int((x0[1]-x0[0])/h)\n",
    "\n",
    "x = [x0[0] + i*h for j in range(Nx) for i in range(Ny)]\n",
    "y = [y0[0] + j*h for j in range(Nx) for i in range(Ny)]\n",
    "\n",
    "# Create triangular mesh\n",
    "#------------------------------------------------------\n",
    "T = Triangulation(x, y)\n",
    "E2T = get_triangle_edge_neighbors(T.triangles[:])\n",
    "N2T = get_triangle_node_neighbors(T.triangles[:])\n",
    "N2E = get_node_edge_neighbors(E)\n",
    "print(N2E)\n",
    "\n",
    "fig = plt.figure()\n",
    "fig.set_size_inches(6,6)\n",
    "ax = fig.add_subplot(111)\n",
    "ax.set_aspect('equal')\n",
    "\n",
    "tri_patches = []\n",
    "for tri in T.triangles:\n",
    "    poly = Polygon([[x[iNode], y[iNode]] for iNode in tri])\n",
    "    tri_patches.append(poly)\n",
    "    \n",
    "for i in range(len(x)):\n",
    "    ax.plot(x[i], y[i], marker='o', mfc='k',mec='None')\n",
    "    ax.text(x[i], y[i], str(i))\n",
    "    \n",
    "tri_patchCol = PatchCollection(tri_patches, alpha=0.2, facecolor=[.1,.1,.0], edgecolor='k')\n",
    "ax.add_collection(tri_patchCol)\n",
    "plt.show()"
   ]
  },
  {
   "cell_type": "code",
   "execution_count": 63,
   "metadata": {},
   "outputs": [
    {
     "name": "stdout",
     "output_type": "stream",
     "text": [
      "{1: [1, 2, 1]}\n"
     ]
    }
   ],
   "source": [
    "a = {1 : [1,2]}\n",
    "a[1].append(1)\n",
    "print(a)"
   ]
  },
  {
   "cell_type": "code",
   "execution_count": null,
   "metadata": {},
   "outputs": [],
   "source": []
  }
 ],
 "metadata": {
  "kernelspec": {
   "display_name": "Python 3",
   "language": "python",
   "name": "python3"
  },
  "language_info": {
   "codemirror_mode": {
    "name": "ipython",
    "version": 3
   },
   "file_extension": ".py",
   "mimetype": "text/x-python",
   "name": "python",
   "nbconvert_exporter": "python",
   "pygments_lexer": "ipython3",
   "version": "3.6.5"
  }
 },
 "nbformat": 4,
 "nbformat_minor": 2
}
